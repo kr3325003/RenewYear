{
  "nbformat": 4,
  "nbformat_minor": 0,
  "metadata": {
    "colab": {
      "provenance": []
    },
    "kernelspec": {
      "name": "python3",
      "display_name": "Python 3"
    },
    "accelerator": "GPU"
  },
  "cells": [
    {
      "cell_type": "code",
      "metadata": {
        "id": "n9be_FNoSFWL"
      },
      "source": [
        "import numpy as np\n",
        "import pandas as pd\n",
        "import matplotlib.pyplot as plt\n",
        "from tensorflow.keras.models import Sequential\n",
        "from tensorflow.keras.layers import Dense\n",
        "from tensorflow.keras.optimizers import Adam\n",
        "from tensorflow.python.keras.utils import np_utils\n",
        "from keras import datasets"
      ],
      "execution_count": 6,
      "outputs": []
    },
    {
      "cell_type": "code",
      "metadata": {
        "id": "U2bK8rKXTBm6"
      },
      "source": [
        "def DNN_ModelSequential(n_input, n_hidden, n_hidden2, n_out):\n",
        "  model = Sequential()\n",
        "  model.add(Dense(n_hidden, input_shape=(n_input,), activation='relu'))\n",
        "  model.add(Dense(n_hidden2, activation='relu'))\n",
        "  model.add(Dense(n_out, activation='softmax'))\n",
        "\n",
        "  opt = Adam(lr=0.01)\n",
        "  model.compile(opt, loss='categorical_crossentropy', metrics=['accuracy'])\n",
        "  return model\n"
      ],
      "execution_count": null,
      "outputs": []
    },
    {
      "cell_type": "code",
      "metadata": {
        "id": "GHFIK70xpSiy"
      },
      "source": [
        "label = ['Tshirt', 'trouser', 'pullover', 'dress', 'coat', 'sandal', 'shirt', 'sneaker', 'bag','ankle_boot']"
      ],
      "execution_count": 8,
      "outputs": []
    },
    {
      "cell_type": "code",
      "metadata": {
        "id": "2Ksgo2pxUR4R",
        "colab": {
          "base_uri": "https://localhost:8080/"
        },
        "outputId": "0f0b487f-9f31-4c02-a02d-f0051f9e702c"
      },
      "source": [
        "(X_train, Y_train), (X_test, Y_test) = datasets.fashion_mnist.load_data()"
      ],
      "execution_count": 7,
      "outputs": [
        {
          "output_type": "stream",
          "name": "stdout",
          "text": [
            "Downloading data from https://storage.googleapis.com/tensorflow/tf-keras-datasets/train-labels-idx1-ubyte.gz\n",
            "29515/29515 [==============================] - 0s 0us/step\n",
            "Downloading data from https://storage.googleapis.com/tensorflow/tf-keras-datasets/train-images-idx3-ubyte.gz\n",
            "26421880/26421880 [==============================] - 0s 0us/step\n",
            "Downloading data from https://storage.googleapis.com/tensorflow/tf-keras-datasets/t10k-labels-idx1-ubyte.gz\n",
            "5148/5148 [==============================] - 0s 0us/step\n",
            "Downloading data from https://storage.googleapis.com/tensorflow/tf-keras-datasets/t10k-images-idx3-ubyte.gz\n",
            "4422102/4422102 [==============================] - 0s 0us/step\n"
          ]
        }
      ]
    },
    {
      "cell_type": "code",
      "metadata": {
        "id": "o21FxSTiUc9n",
        "outputId": "c4668e22-cc34-4585-e205-521029fe2d82",
        "colab": {
          "base_uri": "https://localhost:8080/"
        }
      },
      "source": [
        "print(X_train.shape, Y_train.shape)\n",
        "print(X_test.shape, Y_test.shape)"
      ],
      "execution_count": 9,
      "outputs": [
        {
          "output_type": "stream",
          "name": "stdout",
          "text": [
            "(60000, 28, 28) (60000,)\n",
            "(10000, 28, 28) (10000,)\n"
          ]
        }
      ]
    },
    {
      "cell_type": "code",
      "metadata": {
        "id": "K2oe83L0UtLY",
        "outputId": "020017d6-0364-47ab-8abc-d7322fd2f6f8",
        "colab": {
          "base_uri": "https://localhost:8080/",
          "height": 1000
        }
      },
      "source": [
        "mySample = np.random.randint(60000)\n",
        "plt.imshow(X_train[mySample])\n",
        "plt.show()\n",
        "print(label[Y_train[mySample]])\n",
        "print(X_train[mySample])"
      ],
      "execution_count": 10,
      "outputs": [
        {
          "output_type": "display_data",
          "data": {
            "text/plain": [
              "<Figure size 640x480 with 1 Axes>"
            ],
            "image/png": "[encoded data removed]"
          },
          "metadata": {}
        },
        {
          "output_type": "stream",
          "name": "stdout",
          "text": [
            "bag\n",
            "[[  0   0   0   0   0   0   0   0   0   0   0   0  37 124 115   7   0   0\n",
            "    0   0   0   0   0   0   0   0   0   0]\n",
            " [  0   0   0   0   0   0   0   0   1   0   0 134 175 136 139 187 125   0\n",
            "    0   0   0   0   0   0   0   0   0   0]\n",
            " [  0   0   0   0   0   0   0   0   0   0 133 133   0   0   0   0 175  95\n",
            "    0   4   1   0   0   0   0   0   0   0]\n",
            " [  0   0   0   0   0   0   0   5   0  85 136   0   0   0   1   0   0 162\n",
            "   23   0   3   0   0   0   0   0   0   0]\n",
            " [  0   0   0   0   0   0   1   1   0 145  41   0   3   0   0   5   0  95\n",
            "  127   0   9   0   0   0   0   0   0   0]\n",
            " [  0   0   0   0   0   0   2   0  12 168   0   0   1   0   1   1   0  23\n",
            "  169   0   0   0   0   0   0   0   0   0]\n",
            " [  0   0   0   3   3   2   4   0  93 167   0   0   0   2   0   3   0  13\n",
            "  185  45   0   5   4   2   5   0   0   0]\n",
            " [  0   5   0   0   0   0   0   0 156 194   0   0   0   0   0   0   0  19\n",
            "  196 131   0   0   0   0   0   0   1   1]\n",
            " [  0   0   0   0   0   5   0  39 205 185  18   0 114 113 119  92   0 137\n",
            "  191 168  53  53  88  95  54   0   0   0]\n",
            " [  0  54 170 190 192 223 241 220 206 208 185 220 247 191 195 230 220 228\n",
            "  182 199 186 204 195 199 199 164  44   0]\n",
            " [  0 172 237 215 218 208 206 217 219 212 191 233 191 200 218 207 186 199\n",
            "  210 198 187 200 202 201 194 189 243   9]\n",
            " [  0 196 198 216 213 213 212 219 222 210 211 226 211 207 212 220 196 192\n",
            "  230 204 215 215 208 218 164 165 213  33]\n",
            " [  0 189 180 191 233 220 199 221 212 207 218 215 221 207 202 211 201 196\n",
            "  209 202 208 208 196 140 108 179 227  23]\n",
            " [ 98 149 192 165 211 222 202 221 207 211 211 196 200 186 182 196 201 201\n",
            "  201 194 209 207 157 102 155 197 221 147]\n",
            " [174 166 114 178 212 208 221 204 212 207 199 198 199 190 196 207 208 199\n",
            "  215 209 194 161 121 127 169 195 228 138]\n",
            " [ 57 139  97 156 208 213 221 204 194 196 191 198 200 189 197 205 188 160\n",
            "  143 115 125  86  75 104 157 194 236  28]\n",
            " [ 66  99  83 223 213 212 229 210 204 206 196 196 195 181 175 157 117 100\n",
            "  105  90 127 109  76 120 206 192 231  36]\n",
            " [ 44 167 113 204 229 205 226 210 212 210 197 194 188 184 174 162 151 146\n",
            "  131 103 128 100  64 129 192 198 226  14]\n",
            " [ 15 206 129 107 225 220 219 201 211 210 197 191 187 170 164 161 158 156\n",
            "  138 109 135  97  96 102 123 213 209   0]\n",
            " [  5 169 100 107 232 225 217 198 213 204 189 186 182 162 159 168 160 135\n",
            "  118 115 138 110 116 120 136 229 216   0]\n",
            " [ 22 158  80 215 238 213 219 205 215 206 195 186 172 168 167 172 149 108\n",
            "  114 129 129  98 129 120 162 226 210   0]\n",
            " [ 15 185  95 218 225 219 220 207 208 209 207 194 174 176 165 162 157 120\n",
            "  121 143 138 109 113 107 169 222 210   0]\n",
            " [  0 146 105 222 235 222 217 212 205 199 212 210 205 191 185 175 185 166\n",
            "  149 156 156 123 104 121 175 212 222  11]\n",
            " [  0 125 154 243 228 222 217 218 217 211 218 218 211 205 208 200 204 196\n",
            "  187 192 188 154 120  94 154 212 229  36]\n",
            " [  0 128 188 232 223 223 223 221 223 220 220 233 226 226 222 222 223 216\n",
            "  210 220 217 207 191 174 196 204 233  43]\n",
            " [ 14 172 168 205 198 200 200 200 201 198 196 200 191 190 188 189 189 189\n",
            "  184 177 177 174 170 145 137 189 210  57]\n",
            " [ 72 255 225 221 235 240 241 246 243 240 240 240 236 241 240 240 239 237\n",
            "  231 231 241 241 237 242 209 212 253 131]\n",
            " [ 17 229 205 175 157 157 161 168 166 161 161 157 153 154 150 147 144 139\n",
            "  131 128 124 113 111 111 124 134 157  42]]\n"
          ]
        }
      ]
    },
    {
      "cell_type": "code",
      "metadata": {
        "id": "KXnQLSdMX8wT"
      },
      "source": [
        "def Data_func():\n",
        "  (X_train, Y_train), (X_test, Y_test) = datasets.fashion_mnist.load_data()\n",
        "  Y_train = np_utils.to_categorical(Y_train)\n",
        "  Y_test = np_utils.to_categorical(Y_test)\n",
        "  L, W, H = X_train.shape\n",
        "  X_train = X_train.reshape(-1, W * H)\n",
        "  X_test = X_test.reshape(-1, W * H)\n",
        "  X_train = X_train / 255\n",
        "  X_test = X_test / 255\n",
        "  return (X_train, Y_train), (X_test, Y_test)"
      ],
      "execution_count": null,
      "outputs": []
    },
    {
      "cell_type": "code",
      "metadata": {
        "id": "DRW-s92NaIeb",
        "outputId": "d3592f9e-6a12-4704-c98d-af1a0b60210a",
        "colab": {
          "base_uri": "https://localhost:8080/",
          "height": 301
        }
      },
      "source": [
        "model = DNN_ModelSequential(784, 128, 128, 10)\n",
        "(x_train, y_train), (x_test, y_test) = Data_func()\n",
        "print(model.summary())\n",
        "print(x_train.shape, y_train.shape)"
      ],
      "execution_count": null,
      "outputs": [
        {
          "output_type": "stream",
          "text": [
            "Model: \"sequential\"\n",
            "_________________________________________________________________\n",
            "Layer (type)                 Output Shape              Param #   \n",
            "=================================================================\n",
            "dense (Dense)                (None, 128)               100480    \n",
            "_________________________________________________________________\n",
            "dense_1 (Dense)              (None, 128)               16512     \n",
            "_________________________________________________________________\n",
            "dense_2 (Dense)              (None, 10)                1290      \n",
            "=================================================================\n",
            "Total params: 118,282\n",
            "Trainable params: 118,282\n",
            "Non-trainable params: 0\n",
            "_________________________________________________________________\n",
            "None\n",
            "(60000, 784) (60000, 10)\n"
          ],
          "name": "stdout"
        }
      ]
    },
    {
      "cell_type": "code",
      "metadata": {
        "id": "YEsOTBs8bII8",
        "outputId": "90b4832d-f14c-45a3-d788-bd8c34822541",
        "colab": {
          "base_uri": "https://localhost:8080/",
          "height": 1000
        }
      },
      "source": [
        "fit_hist = model.fit(x_train, y_train, epochs=50, batch_size=128, validation_split=0.2)\n",
        "performance_test = model.evaluate(x_test, y_test, batch_size=128)\n",
        "print('test Loss Accurecy -> ',performance_test)"
      ],
      "execution_count": null,
      "outputs": [
        {
          "output_type": "stream",
          "text": [
            "Epoch 1/50\n",
            "375/375 [==============================] - 2s 5ms/step - loss: 0.5469 - accuracy: 0.8024 - val_loss: 0.4219 - val_accuracy: 0.8466\n",
            "Epoch 2/50\n",
            "375/375 [==============================] - 2s 4ms/step - loss: 0.4073 - accuracy: 0.8515 - val_loss: 0.4138 - val_accuracy: 0.8554\n",
            "Epoch 3/50\n",
            "375/375 [==============================] - 2s 4ms/step - loss: 0.3789 - accuracy: 0.8610 - val_loss: 0.3957 - val_accuracy: 0.8591\n",
            "Epoch 4/50\n",
            "375/375 [==============================] - 2s 4ms/step - loss: 0.3511 - accuracy: 0.8705 - val_loss: 0.3647 - val_accuracy: 0.8701\n",
            "Epoch 5/50\n",
            "375/375 [==============================] - 2s 4ms/step - loss: 0.3439 - accuracy: 0.8720 - val_loss: 0.3691 - val_accuracy: 0.8679\n",
            "Epoch 6/50\n",
            "375/375 [==============================] - 2s 4ms/step - loss: 0.3302 - accuracy: 0.8792 - val_loss: 0.3906 - val_accuracy: 0.8665\n",
            "Epoch 7/50\n",
            "375/375 [==============================] - 2s 4ms/step - loss: 0.3205 - accuracy: 0.8818 - val_loss: 0.3498 - val_accuracy: 0.8760\n",
            "Epoch 8/50\n",
            "375/375 [==============================] - 2s 4ms/step - loss: 0.3149 - accuracy: 0.8833 - val_loss: 0.3430 - val_accuracy: 0.8762\n",
            "Epoch 9/50\n",
            "375/375 [==============================] - 2s 4ms/step - loss: 0.3096 - accuracy: 0.8870 - val_loss: 0.3854 - val_accuracy: 0.8659\n",
            "Epoch 10/50\n",
            "375/375 [==============================] - 2s 4ms/step - loss: 0.3035 - accuracy: 0.8872 - val_loss: 0.3806 - val_accuracy: 0.8700\n",
            "Epoch 11/50\n",
            "375/375 [==============================] - 2s 4ms/step - loss: 0.3007 - accuracy: 0.8895 - val_loss: 0.3897 - val_accuracy: 0.8712\n",
            "Epoch 12/50\n",
            "375/375 [==============================] - 2s 4ms/step - loss: 0.2902 - accuracy: 0.8933 - val_loss: 0.3775 - val_accuracy: 0.8752\n",
            "Epoch 13/50\n",
            "375/375 [==============================] - 2s 4ms/step - loss: 0.2852 - accuracy: 0.8944 - val_loss: 0.3716 - val_accuracy: 0.8768\n",
            "Epoch 14/50\n",
            "375/375 [==============================] - 2s 4ms/step - loss: 0.2900 - accuracy: 0.8923 - val_loss: 0.3675 - val_accuracy: 0.8718\n",
            "Epoch 15/50\n",
            "375/375 [==============================] - 2s 4ms/step - loss: 0.2830 - accuracy: 0.8960 - val_loss: 0.3577 - val_accuracy: 0.8750\n",
            "Epoch 16/50\n",
            "375/375 [==============================] - 2s 4ms/step - loss: 0.2772 - accuracy: 0.8972 - val_loss: 0.3858 - val_accuracy: 0.8693\n",
            "Epoch 17/50\n",
            "375/375 [==============================] - 2s 4ms/step - loss: 0.2787 - accuracy: 0.8965 - val_loss: 0.3762 - val_accuracy: 0.8804\n",
            "Epoch 18/50\n",
            "375/375 [==============================] - 2s 4ms/step - loss: 0.2717 - accuracy: 0.9000 - val_loss: 0.3854 - val_accuracy: 0.8767\n",
            "Epoch 19/50\n",
            "375/375 [==============================] - 2s 4ms/step - loss: 0.2764 - accuracy: 0.8979 - val_loss: 0.3615 - val_accuracy: 0.8765\n",
            "Epoch 20/50\n",
            "375/375 [==============================] - 2s 4ms/step - loss: 0.2681 - accuracy: 0.9016 - val_loss: 0.3604 - val_accuracy: 0.8802\n",
            "Epoch 21/50\n",
            "375/375 [==============================] - 2s 4ms/step - loss: 0.2633 - accuracy: 0.9032 - val_loss: 0.4084 - val_accuracy: 0.8731\n",
            "Epoch 22/50\n",
            "375/375 [==============================] - 2s 4ms/step - loss: 0.2662 - accuracy: 0.9017 - val_loss: 0.3881 - val_accuracy: 0.8742\n",
            "Epoch 23/50\n",
            "375/375 [==============================] - 2s 4ms/step - loss: 0.2623 - accuracy: 0.9021 - val_loss: 0.3987 - val_accuracy: 0.8685\n",
            "Epoch 24/50\n",
            "375/375 [==============================] - 2s 4ms/step - loss: 0.2565 - accuracy: 0.9035 - val_loss: 0.3955 - val_accuracy: 0.8713\n",
            "Epoch 25/50\n",
            "375/375 [==============================] - 2s 4ms/step - loss: 0.2601 - accuracy: 0.9048 - val_loss: 0.4010 - val_accuracy: 0.8791\n",
            "Epoch 26/50\n",
            "375/375 [==============================] - 2s 4ms/step - loss: 0.2558 - accuracy: 0.9052 - val_loss: 0.3813 - val_accuracy: 0.8796\n",
            "Epoch 27/50\n",
            "375/375 [==============================] - 2s 4ms/step - loss: 0.2517 - accuracy: 0.9078 - val_loss: 0.3812 - val_accuracy: 0.8764\n",
            "Epoch 28/50\n",
            "375/375 [==============================] - 2s 4ms/step - loss: 0.2547 - accuracy: 0.9070 - val_loss: 0.3910 - val_accuracy: 0.8809\n",
            "Epoch 29/50\n",
            "375/375 [==============================] - 2s 4ms/step - loss: 0.2493 - accuracy: 0.9088 - val_loss: 0.4086 - val_accuracy: 0.8769\n",
            "Epoch 30/50\n",
            "375/375 [==============================] - 2s 4ms/step - loss: 0.2497 - accuracy: 0.9091 - val_loss: 0.3786 - val_accuracy: 0.8802\n",
            "Epoch 31/50\n",
            "375/375 [==============================] - 2s 4ms/step - loss: 0.2460 - accuracy: 0.9097 - val_loss: 0.4034 - val_accuracy: 0.8783\n",
            "Epoch 32/50\n",
            "375/375 [==============================] - 2s 4ms/step - loss: 0.2450 - accuracy: 0.9091 - val_loss: 0.4292 - val_accuracy: 0.8700\n",
            "Epoch 33/50\n",
            "375/375 [==============================] - 2s 4ms/step - loss: 0.2499 - accuracy: 0.9082 - val_loss: 0.4135 - val_accuracy: 0.8814\n",
            "Epoch 34/50\n",
            "375/375 [==============================] - 2s 4ms/step - loss: 0.2362 - accuracy: 0.9134 - val_loss: 0.4063 - val_accuracy: 0.8822\n",
            "Epoch 35/50\n",
            "375/375 [==============================] - 2s 5ms/step - loss: 0.2400 - accuracy: 0.9111 - val_loss: 0.4106 - val_accuracy: 0.8792\n",
            "Epoch 36/50\n",
            "375/375 [==============================] - 2s 5ms/step - loss: 0.2465 - accuracy: 0.9096 - val_loss: 0.4101 - val_accuracy: 0.8771\n",
            "Epoch 37/50\n",
            "375/375 [==============================] - 2s 5ms/step - loss: 0.2406 - accuracy: 0.9115 - val_loss: 0.4315 - val_accuracy: 0.8763\n",
            "Epoch 38/50\n",
            "375/375 [==============================] - 2s 4ms/step - loss: 0.2343 - accuracy: 0.9138 - val_loss: 0.4888 - val_accuracy: 0.8692\n",
            "Epoch 39/50\n",
            "375/375 [==============================] - 2s 4ms/step - loss: 0.2279 - accuracy: 0.9146 - val_loss: 0.4245 - val_accuracy: 0.8820\n",
            "Epoch 40/50\n",
            "375/375 [==============================] - 2s 4ms/step - loss: 0.2316 - accuracy: 0.9145 - val_loss: 0.4690 - val_accuracy: 0.8791\n",
            "Epoch 41/50\n",
            "375/375 [==============================] - 2s 4ms/step - loss: 0.2285 - accuracy: 0.9148 - val_loss: 0.4557 - val_accuracy: 0.8794\n",
            "Epoch 42/50\n",
            "375/375 [==============================] - 2s 4ms/step - loss: 0.2385 - accuracy: 0.9129 - val_loss: 0.4673 - val_accuracy: 0.8762\n",
            "Epoch 43/50\n",
            "375/375 [==============================] - 2s 4ms/step - loss: 0.2288 - accuracy: 0.9161 - val_loss: 0.4651 - val_accuracy: 0.8796\n",
            "Epoch 44/50\n",
            "375/375 [==============================] - 2s 4ms/step - loss: 0.2257 - accuracy: 0.9166 - val_loss: 0.4556 - val_accuracy: 0.8659\n",
            "Epoch 45/50\n",
            "375/375 [==============================] - 2s 4ms/step - loss: 0.2346 - accuracy: 0.9143 - val_loss: 0.4349 - val_accuracy: 0.8825\n",
            "Epoch 46/50\n",
            "375/375 [==============================] - 2s 4ms/step - loss: 0.2260 - accuracy: 0.9174 - val_loss: 0.4517 - val_accuracy: 0.8831\n",
            "Epoch 47/50\n",
            "375/375 [==============================] - 2s 4ms/step - loss: 0.2166 - accuracy: 0.9196 - val_loss: 0.4608 - val_accuracy: 0.8795\n",
            "Epoch 48/50\n",
            "375/375 [==============================] - 2s 4ms/step - loss: 0.2186 - accuracy: 0.9177 - val_loss: 0.4823 - val_accuracy: 0.8789\n",
            "Epoch 49/50\n",
            "375/375 [==============================] - 2s 4ms/step - loss: 0.2234 - accuracy: 0.9171 - val_loss: 0.4566 - val_accuracy: 0.8816\n",
            "Epoch 50/50\n",
            "375/375 [==============================] - 2s 4ms/step - loss: 0.2161 - accuracy: 0.9189 - val_loss: 0.4692 - val_accuracy: 0.8795\n",
            "79/79 [==============================] - 0s 3ms/step - loss: 0.4875 - accuracy: 0.8694\n",
            "test Loss Accurecy ->  [0.4875262677669525, 0.8694000244140625]\n"
          ],
          "name": "stdout"
        }
      ]
    },
    {
      "cell_type": "code",
      "metadata": {
        "id": "NF_Hg4tzcoaN",
        "outputId": "a6e46b26-2865-4092-c0b2-f6bc365271e8",
        "colab": {
          "base_uri": "https://localhost:8080/",
          "height": 300
        }
      },
      "source": [
        "mySample = np.random.randint(10000)\n",
        "plt.imshow(X_test[mySample])\n",
        "plt.show()\n",
        "print(label[Y_test[mySample]])\n",
        "pred = model.predict(x_test[mySample].reshape(-1,784))\n",
        "print(label[np.argmax(pred)])"
      ],
      "execution_count": null,
      "outputs": [
        {
          "output_type": "display_data",
          "data": {
            "image/png": "[encoded data removed]",
            "text/plain": [
              "<Figure size 432x288 with 1 Axes>"
            ]
          },
          "metadata": {
            "tags": [],
            "needs_background": "light"
          }
        },
        {
          "output_type": "stream",
          "text": [
            "Tshirt\n",
            "Tshirt\n"
          ],
          "name": "stdout"
        }
      ]
    },
    {
      "cell_type": "code",
      "metadata": {
        "id": "7wWUv3vAen78",
        "outputId": "a947e4e7-a714-4978-8382-057f806abb9e",
        "colab": {
          "base_uri": "https://localhost:8080/",
          "height": 264
        }
      },
      "source": [
        "plt.plot(fit_hist.history['loss'])\n",
        "plt.plot(fit_hist.history['val_loss'])\n",
        "plt.show()"
      ],
      "execution_count": null,
      "outputs": [
        {
          "output_type": "display_data",
          "data": {
            "image/png": "[encoded data removed]",
            "text/plain": [
              "<Figure size 432x288 with 1 Axes>"
            ]
          },
          "metadata": {
            "tags": [],
            "needs_background": "light"
          }
        }
      ]
    },
    {
      "cell_type": "code",
      "metadata": {
        "id": "yIxpSeJ9e3Kk",
        "outputId": "a463cdea-de6f-4c27-b0a1-8f5bdbca0872",
        "colab": {
          "base_uri": "https://localhost:8080/",
          "height": 264
        }
      },
      "source": [
        "plt.plot(fit_hist.history['accuracy'])\n",
        "plt.plot(fit_hist.history['val_accuracy'])\n",
        "plt.show()"
      ],
      "execution_count": null,
      "outputs": [
        {
          "output_type": "display_data",
          "data": {
            "image/png": "[encoded data removed]",
            "text/plain": [
              "<Figure size 432x288 with 1 Axes>"
            ]
          },
          "metadata": {
            "tags": [],
            "needs_background": "light"
          }
        }
      ]
    }
  ]
}